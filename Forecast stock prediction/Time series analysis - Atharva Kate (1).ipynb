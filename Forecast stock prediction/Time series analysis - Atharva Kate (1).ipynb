{
 "cells": [
  {
   "cell_type": "code",
   "execution_count": 1,
   "id": "346553d2",
   "metadata": {},
   "outputs": [],
   "source": [
    "import pandas as pd\n",
    "import numpy as np\n",
    "import warnings \n",
    "warnings.filterwarnings(\"ignore\")\n",
    "import seaborn as sns\n",
    "import matplotlib.pyplot as plt\n",
    "from statsmodels.graphics.tsaplots import plot_acf, plot_pacf\n",
    "from statsmodels.tsa.api import ExponentialSmoothing, SimpleExpSmoothing, Holt"
   ]
  },
  {
   "cell_type": "code",
   "execution_count": 3,
   "id": "618b3bdc",
   "metadata": {},
   "outputs": [
    {
     "data": {
      "text/html": [
       "<div>\n",
       "<style scoped>\n",
       "    .dataframe tbody tr th:only-of-type {\n",
       "        vertical-align: middle;\n",
       "    }\n",
       "\n",
       "    .dataframe tbody tr th {\n",
       "        vertical-align: top;\n",
       "    }\n",
       "\n",
       "    .dataframe thead th {\n",
       "        text-align: right;\n",
       "    }\n",
       "</style>\n",
       "<table border=\"1\" class=\"dataframe\">\n",
       "  <thead>\n",
       "    <tr style=\"text-align: right;\">\n",
       "      <th></th>\n",
       "      <th>Date</th>\n",
       "      <th>Price</th>\n",
       "      <th>Open</th>\n",
       "      <th>High</th>\n",
       "      <th>Low</th>\n",
       "      <th>Vol.</th>\n",
       "      <th>Change %</th>\n",
       "    </tr>\n",
       "  </thead>\n",
       "  <tbody>\n",
       "    <tr>\n",
       "      <th>0</th>\n",
       "      <td>Aug 07, 2020</td>\n",
       "      <td>190.65</td>\n",
       "      <td>191.45</td>\n",
       "      <td>192.10</td>\n",
       "      <td>189.55</td>\n",
       "      <td>44.82M</td>\n",
       "      <td>-0.16%</td>\n",
       "    </tr>\n",
       "    <tr>\n",
       "      <th>1</th>\n",
       "      <td>Aug 06, 2020</td>\n",
       "      <td>190.95</td>\n",
       "      <td>192.30</td>\n",
       "      <td>194.50</td>\n",
       "      <td>190.25</td>\n",
       "      <td>59.74M</td>\n",
       "      <td>-0.26%</td>\n",
       "    </tr>\n",
       "    <tr>\n",
       "      <th>2</th>\n",
       "      <td>Aug 05, 2020</td>\n",
       "      <td>191.45</td>\n",
       "      <td>192.75</td>\n",
       "      <td>196.85</td>\n",
       "      <td>191.00</td>\n",
       "      <td>68.89M</td>\n",
       "      <td>-0.08%</td>\n",
       "    </tr>\n",
       "    <tr>\n",
       "      <th>3</th>\n",
       "      <td>Aug 04, 2020</td>\n",
       "      <td>191.60</td>\n",
       "      <td>193.35</td>\n",
       "      <td>193.80</td>\n",
       "      <td>190.50</td>\n",
       "      <td>43.87M</td>\n",
       "      <td>-0.34%</td>\n",
       "    </tr>\n",
       "    <tr>\n",
       "      <th>4</th>\n",
       "      <td>Aug 03, 2020</td>\n",
       "      <td>192.25</td>\n",
       "      <td>192.00</td>\n",
       "      <td>194.60</td>\n",
       "      <td>190.05</td>\n",
       "      <td>72.46M</td>\n",
       "      <td>0.42%</td>\n",
       "    </tr>\n",
       "  </tbody>\n",
       "</table>\n",
       "</div>"
      ],
      "text/plain": [
       "           Date   Price    Open    High     Low    Vol. Change %\n",
       "0  Aug 07, 2020  190.65  191.45  192.10  189.55  44.82M   -0.16%\n",
       "1  Aug 06, 2020  190.95  192.30  194.50  190.25  59.74M   -0.26%\n",
       "2  Aug 05, 2020  191.45  192.75  196.85  191.00  68.89M   -0.08%\n",
       "3  Aug 04, 2020  191.60  193.35  193.80  190.50  43.87M   -0.34%\n",
       "4  Aug 03, 2020  192.25  192.00  194.60  190.05  72.46M    0.42%"
      ]
     },
     "execution_count": 3,
     "metadata": {},
     "output_type": "execute_result"
    }
   ],
   "source": [
    "sbi = pd.read_csv(r\"C:\\Users\\Atharva\\Downloads\\SBI_Historical_Data.csv\")\n",
    "sbi.head(5)"
   ]
  },
  {
   "cell_type": "markdown",
   "id": "3706ad04",
   "metadata": {},
   "source": [
    "# Q. 1 As part of EDA, perform the following tasks:\n"
   ]
  },
  {
   "cell_type": "markdown",
   "id": "2347dcbb",
   "metadata": {},
   "source": [
    "### a. Print dimensions of the data"
   ]
  },
  {
   "cell_type": "code",
   "execution_count": 4,
   "id": "9e8fd3e7",
   "metadata": {},
   "outputs": [
    {
     "name": "stdout",
     "output_type": "stream",
     "text": [
      "<class 'pandas.core.frame.DataFrame'>\n",
      "RangeIndex: 1385 entries, 0 to 1384\n",
      "Data columns (total 7 columns):\n",
      " #   Column    Non-Null Count  Dtype  \n",
      "---  ------    --------------  -----  \n",
      " 0   Date      1385 non-null   object \n",
      " 1   Price     1385 non-null   float64\n",
      " 2   Open      1385 non-null   float64\n",
      " 3   High      1385 non-null   float64\n",
      " 4   Low       1385 non-null   float64\n",
      " 5   Vol.      1385 non-null   object \n",
      " 6   Change %  1385 non-null   object \n",
      "dtypes: float64(4), object(3)\n",
      "memory usage: 75.9+ KB\n"
     ]
    }
   ],
   "source": [
    "sbi.info()"
   ]
  },
  {
   "cell_type": "code",
   "execution_count": 6,
   "id": "bbd4ce85",
   "metadata": {},
   "outputs": [
    {
     "data": {
      "text/html": [
       "<div>\n",
       "<style scoped>\n",
       "    .dataframe tbody tr th:only-of-type {\n",
       "        vertical-align: middle;\n",
       "    }\n",
       "\n",
       "    .dataframe tbody tr th {\n",
       "        vertical-align: top;\n",
       "    }\n",
       "\n",
       "    .dataframe thead th {\n",
       "        text-align: right;\n",
       "    }\n",
       "</style>\n",
       "<table border=\"1\" class=\"dataframe\">\n",
       "  <thead>\n",
       "    <tr style=\"text-align: right;\">\n",
       "      <th></th>\n",
       "      <th>Price</th>\n",
       "      <th>Open</th>\n",
       "      <th>High</th>\n",
       "      <th>Low</th>\n",
       "    </tr>\n",
       "  </thead>\n",
       "  <tbody>\n",
       "    <tr>\n",
       "      <th>count</th>\n",
       "      <td>1385.000000</td>\n",
       "      <td>1385.000000</td>\n",
       "      <td>1385.000000</td>\n",
       "      <td>1385.000000</td>\n",
       "    </tr>\n",
       "    <tr>\n",
       "      <th>mean</th>\n",
       "      <td>266.274404</td>\n",
       "      <td>266.903213</td>\n",
       "      <td>270.343682</td>\n",
       "      <td>262.757906</td>\n",
       "    </tr>\n",
       "    <tr>\n",
       "      <th>std</th>\n",
       "      <td>45.555277</td>\n",
       "      <td>45.590664</td>\n",
       "      <td>45.829745</td>\n",
       "      <td>45.248334</td>\n",
       "    </tr>\n",
       "    <tr>\n",
       "      <th>min</th>\n",
       "      <td>150.850000</td>\n",
       "      <td>151.950000</td>\n",
       "      <td>153.200000</td>\n",
       "      <td>148.250000</td>\n",
       "    </tr>\n",
       "    <tr>\n",
       "      <th>25%</th>\n",
       "      <td>245.650000</td>\n",
       "      <td>245.900000</td>\n",
       "      <td>248.800000</td>\n",
       "      <td>242.550000</td>\n",
       "    </tr>\n",
       "    <tr>\n",
       "      <th>50%</th>\n",
       "      <td>270.800000</td>\n",
       "      <td>271.150000</td>\n",
       "      <td>274.600000</td>\n",
       "      <td>267.400000</td>\n",
       "    </tr>\n",
       "    <tr>\n",
       "      <th>75%</th>\n",
       "      <td>296.150000</td>\n",
       "      <td>296.500000</td>\n",
       "      <td>300.750000</td>\n",
       "      <td>292.200000</td>\n",
       "    </tr>\n",
       "    <tr>\n",
       "      <th>max</th>\n",
       "      <td>372.400000</td>\n",
       "      <td>371.950000</td>\n",
       "      <td>373.800000</td>\n",
       "      <td>366.200000</td>\n",
       "    </tr>\n",
       "  </tbody>\n",
       "</table>\n",
       "</div>"
      ],
      "text/plain": [
       "             Price         Open         High          Low\n",
       "count  1385.000000  1385.000000  1385.000000  1385.000000\n",
       "mean    266.274404   266.903213   270.343682   262.757906\n",
       "std      45.555277    45.590664    45.829745    45.248334\n",
       "min     150.850000   151.950000   153.200000   148.250000\n",
       "25%     245.650000   245.900000   248.800000   242.550000\n",
       "50%     270.800000   271.150000   274.600000   267.400000\n",
       "75%     296.150000   296.500000   300.750000   292.200000\n",
       "max     372.400000   371.950000   373.800000   366.200000"
      ]
     },
     "execution_count": 6,
     "metadata": {},
     "output_type": "execute_result"
    }
   ],
   "source": [
    "sbi.describe()"
   ]
  },
  {
   "cell_type": "code",
   "execution_count": 22,
   "id": "6a623f43",
   "metadata": {},
   "outputs": [
    {
     "data": {
      "text/plain": [
       "9695"
      ]
     },
     "execution_count": 22,
     "metadata": {},
     "output_type": "execute_result"
    }
   ],
   "source": [
    "sbi.size"
   ]
  },
  {
   "cell_type": "code",
   "execution_count": 23,
   "id": "519240ea",
   "metadata": {},
   "outputs": [
    {
     "data": {
      "text/plain": [
       "(1385, 7)"
      ]
     },
     "execution_count": 23,
     "metadata": {},
     "output_type": "execute_result"
    }
   ],
   "source": [
    "sbi.shape"
   ]
  },
  {
   "cell_type": "markdown",
   "id": "01920cf5",
   "metadata": {},
   "source": [
    "### b. Dimensions of Dataset"
   ]
  },
  {
   "cell_type": "code",
   "execution_count": 20,
   "id": "fb82d917",
   "metadata": {},
   "outputs": [
    {
     "name": "stdout",
     "output_type": "stream",
     "text": [
      "2\n"
     ]
    }
   ],
   "source": [
    "print(sbi.ndim)"
   ]
  },
  {
   "cell_type": "markdown",
   "id": "3c660fb1",
   "metadata": {},
   "source": [
    "### c. Statistical Summary"
   ]
  },
  {
   "cell_type": "code",
   "execution_count": 24,
   "id": "bc97ae80",
   "metadata": {},
   "outputs": [
    {
     "name": "stdout",
     "output_type": "stream",
     "text": [
      "Statistical Summary of the  Price is mentioned : \n",
      "count    1385.000000\n",
      "mean      266.274404\n",
      "std        45.555277\n",
      "min       150.850000\n",
      "25%       245.650000\n",
      "50%       270.800000\n",
      "75%       296.150000\n",
      "max       372.400000\n",
      "Name: Price, dtype: float64\n",
      "Statistical Summary of the  Open is mentioned : \n",
      "count    1385.000000\n",
      "mean      266.903213\n",
      "std        45.590664\n",
      "min       151.950000\n",
      "25%       245.900000\n",
      "50%       271.150000\n",
      "75%       296.500000\n",
      "max       371.950000\n",
      "Name: Open, dtype: float64\n",
      "Statistical Summary of the  High is mentioned : \n",
      "count    1385.000000\n",
      "mean      270.343682\n",
      "std        45.829745\n",
      "min       153.200000\n",
      "25%       248.800000\n",
      "50%       274.600000\n",
      "75%       300.750000\n",
      "max       373.800000\n",
      "Name: High, dtype: float64\n",
      "Statistical Summary of the  Low is mentioned : \n",
      "count    1385.000000\n",
      "mean      262.757906\n",
      "std        45.248334\n",
      "min       148.250000\n",
      "25%       242.550000\n",
      "50%       267.400000\n",
      "75%       292.200000\n",
      "max       366.200000\n",
      "Name: Low, dtype: float64\n"
     ]
    }
   ],
   "source": [
    "for i in sbi.select_dtypes(include=np.number):\n",
    "    print(\"Statistical Summary of the \",i,\"is mentioned : \")\n",
    "    print(sbi[i].describe())"
   ]
  },
  {
   "cell_type": "markdown",
   "id": "c3b77f72",
   "metadata": {},
   "source": [
    "### d. Converting Date"
   ]
  },
  {
   "cell_type": "code",
   "execution_count": 25,
   "id": "b4035057",
   "metadata": {},
   "outputs": [
    {
     "name": "stdout",
     "output_type": "stream",
     "text": [
      "Datatype of the  Date is :  datetime64[ns]\n",
      "Datatype of the  Price is :  float64\n",
      "Datatype of the  Open is :  float64\n",
      "Datatype of the  High is :  float64\n",
      "Datatype of the  Low is :  float64\n",
      "Datatype of the  Vol. is :  object\n",
      "Datatype of the  Change % is :  object\n"
     ]
    }
   ],
   "source": [
    "sbi['Date'] = pd.to_datetime(sbi['Date'])\n",
    "\n",
    "for i in sbi:\n",
    "    print(\"Datatype of the \",i,\"is : \",sbi[i].dtypes)"
   ]
  },
  {
   "cell_type": "code",
   "execution_count": null,
   "id": "46824569",
   "metadata": {},
   "outputs": [],
   "source": []
  },
  {
   "cell_type": "markdown",
   "id": "2c52dd4c",
   "metadata": {},
   "source": [
    "### e. Check Data Type and Missing Values"
   ]
  },
  {
   "cell_type": "code",
   "execution_count": 8,
   "id": "7e14e9e5",
   "metadata": {},
   "outputs": [
    {
     "data": {
      "text/plain": [
       "Date        0\n",
       "Price       0\n",
       "Open        0\n",
       "High        0\n",
       "Low         0\n",
       "Vol.        0\n",
       "Change %    0\n",
       "dtype: int64"
      ]
     },
     "execution_count": 8,
     "metadata": {},
     "output_type": "execute_result"
    }
   ],
   "source": [
    "sbi.isnull().sum()"
   ]
  },
  {
   "cell_type": "code",
   "execution_count": 77,
   "id": "eee0e8ea",
   "metadata": {},
   "outputs": [
    {
     "data": {
      "text/plain": [
       "Date        0\n",
       "Price       0\n",
       "Open        0\n",
       "High        0\n",
       "Low         0\n",
       "Vol.        0\n",
       "Change %    0\n",
       "Forecast    0\n",
       "dtype: int64"
      ]
     },
     "execution_count": 77,
     "metadata": {},
     "output_type": "execute_result"
    }
   ],
   "source": [
    "sbi.isna().sum()"
   ]
  },
  {
   "cell_type": "code",
   "execution_count": 10,
   "id": "50c60962",
   "metadata": {},
   "outputs": [
    {
     "name": "stdout",
     "output_type": "stream",
     "text": [
      "<class 'pandas.core.frame.DataFrame'>\n",
      "RangeIndex: 1385 entries, 0 to 1384\n",
      "Data columns (total 7 columns):\n",
      " #   Column    Non-Null Count  Dtype  \n",
      "---  ------    --------------  -----  \n",
      " 0   Date      1385 non-null   object \n",
      " 1   Price     1385 non-null   float64\n",
      " 2   Open      1385 non-null   float64\n",
      " 3   High      1385 non-null   float64\n",
      " 4   Low       1385 non-null   float64\n",
      " 5   Vol.      1385 non-null   object \n",
      " 6   Change %  1385 non-null   object \n",
      "dtypes: float64(4), object(3)\n",
      "memory usage: 75.9+ KB\n"
     ]
    }
   ],
   "source": [
    "sbi.info()"
   ]
  },
  {
   "cell_type": "markdown",
   "id": "29ba074f",
   "metadata": {},
   "source": [
    "### f. Index the dataset with Date "
   ]
  },
  {
   "cell_type": "code",
   "execution_count": 12,
   "id": "e12c476b",
   "metadata": {},
   "outputs": [
    {
     "data": {
      "text/html": [
       "<div>\n",
       "<style scoped>\n",
       "    .dataframe tbody tr th:only-of-type {\n",
       "        vertical-align: middle;\n",
       "    }\n",
       "\n",
       "    .dataframe tbody tr th {\n",
       "        vertical-align: top;\n",
       "    }\n",
       "\n",
       "    .dataframe thead th {\n",
       "        text-align: right;\n",
       "    }\n",
       "</style>\n",
       "<table border=\"1\" class=\"dataframe\">\n",
       "  <thead>\n",
       "    <tr style=\"text-align: right;\">\n",
       "      <th></th>\n",
       "      <th>Price</th>\n",
       "      <th>Open</th>\n",
       "      <th>High</th>\n",
       "      <th>Low</th>\n",
       "      <th>Vol.</th>\n",
       "      <th>Change %</th>\n",
       "    </tr>\n",
       "    <tr>\n",
       "      <th>Date</th>\n",
       "      <th></th>\n",
       "      <th></th>\n",
       "      <th></th>\n",
       "      <th></th>\n",
       "      <th></th>\n",
       "      <th></th>\n",
       "    </tr>\n",
       "  </thead>\n",
       "  <tbody>\n",
       "    <tr>\n",
       "      <th>Aug 07, 2020</th>\n",
       "      <td>190.65</td>\n",
       "      <td>191.45</td>\n",
       "      <td>192.10</td>\n",
       "      <td>189.55</td>\n",
       "      <td>44.82M</td>\n",
       "      <td>-0.16%</td>\n",
       "    </tr>\n",
       "    <tr>\n",
       "      <th>Aug 06, 2020</th>\n",
       "      <td>190.95</td>\n",
       "      <td>192.30</td>\n",
       "      <td>194.50</td>\n",
       "      <td>190.25</td>\n",
       "      <td>59.74M</td>\n",
       "      <td>-0.26%</td>\n",
       "    </tr>\n",
       "    <tr>\n",
       "      <th>Aug 05, 2020</th>\n",
       "      <td>191.45</td>\n",
       "      <td>192.75</td>\n",
       "      <td>196.85</td>\n",
       "      <td>191.00</td>\n",
       "      <td>68.89M</td>\n",
       "      <td>-0.08%</td>\n",
       "    </tr>\n",
       "    <tr>\n",
       "      <th>Aug 04, 2020</th>\n",
       "      <td>191.60</td>\n",
       "      <td>193.35</td>\n",
       "      <td>193.80</td>\n",
       "      <td>190.50</td>\n",
       "      <td>43.87M</td>\n",
       "      <td>-0.34%</td>\n",
       "    </tr>\n",
       "    <tr>\n",
       "      <th>Aug 03, 2020</th>\n",
       "      <td>192.25</td>\n",
       "      <td>192.00</td>\n",
       "      <td>194.60</td>\n",
       "      <td>190.05</td>\n",
       "      <td>72.46M</td>\n",
       "      <td>0.42%</td>\n",
       "    </tr>\n",
       "  </tbody>\n",
       "</table>\n",
       "</div>"
      ],
      "text/plain": [
       "               Price    Open    High     Low    Vol. Change %\n",
       "Date                                                         \n",
       "Aug 07, 2020  190.65  191.45  192.10  189.55  44.82M   -0.16%\n",
       "Aug 06, 2020  190.95  192.30  194.50  190.25  59.74M   -0.26%\n",
       "Aug 05, 2020  191.45  192.75  196.85  191.00  68.89M   -0.08%\n",
       "Aug 04, 2020  191.60  193.35  193.80  190.50  43.87M   -0.34%\n",
       "Aug 03, 2020  192.25  192.00  194.60  190.05  72.46M    0.42%"
      ]
     },
     "execution_count": 12,
     "metadata": {},
     "output_type": "execute_result"
    }
   ],
   "source": [
    "sbi_bank = sbi.set_index(\"Date\")\n",
    "sbi_bank.head()"
   ]
  },
  {
   "cell_type": "markdown",
   "id": "bda10f0d",
   "metadata": {},
   "source": [
    "# Q. 2 Perform time series analysis:\n",
    "\n"
   ]
  },
  {
   "cell_type": "markdown",
   "id": "b3692fcb",
   "metadata": {},
   "source": [
    "#### a. Visualize time series data"
   ]
  },
  {
   "cell_type": "code",
   "execution_count": 16,
   "id": "77ec8f4c",
   "metadata": {},
   "outputs": [
    {
     "data": {
      "text/html": [
       "<div>\n",
       "<style scoped>\n",
       "    .dataframe tbody tr th:only-of-type {\n",
       "        vertical-align: middle;\n",
       "    }\n",
       "\n",
       "    .dataframe tbody tr th {\n",
       "        vertical-align: top;\n",
       "    }\n",
       "\n",
       "    .dataframe thead th {\n",
       "        text-align: right;\n",
       "    }\n",
       "</style>\n",
       "<table border=\"1\" class=\"dataframe\">\n",
       "  <thead>\n",
       "    <tr style=\"text-align: right;\">\n",
       "      <th></th>\n",
       "      <th>Date</th>\n",
       "      <th>Price</th>\n",
       "      <th>Open</th>\n",
       "      <th>High</th>\n",
       "      <th>Low</th>\n",
       "      <th>Vol.</th>\n",
       "      <th>Change %</th>\n",
       "    </tr>\n",
       "  </thead>\n",
       "  <tbody>\n",
       "    <tr>\n",
       "      <th>0</th>\n",
       "      <td>Aug 07, 2020</td>\n",
       "      <td>190.65</td>\n",
       "      <td>191.45</td>\n",
       "      <td>192.10</td>\n",
       "      <td>189.55</td>\n",
       "      <td>44.82M</td>\n",
       "      <td>-0.16%</td>\n",
       "    </tr>\n",
       "    <tr>\n",
       "      <th>1</th>\n",
       "      <td>Aug 06, 2020</td>\n",
       "      <td>190.95</td>\n",
       "      <td>192.30</td>\n",
       "      <td>194.50</td>\n",
       "      <td>190.25</td>\n",
       "      <td>59.74M</td>\n",
       "      <td>-0.26%</td>\n",
       "    </tr>\n",
       "    <tr>\n",
       "      <th>2</th>\n",
       "      <td>Aug 05, 2020</td>\n",
       "      <td>191.45</td>\n",
       "      <td>192.75</td>\n",
       "      <td>196.85</td>\n",
       "      <td>191.00</td>\n",
       "      <td>68.89M</td>\n",
       "      <td>-0.08%</td>\n",
       "    </tr>\n",
       "    <tr>\n",
       "      <th>3</th>\n",
       "      <td>Aug 04, 2020</td>\n",
       "      <td>191.60</td>\n",
       "      <td>193.35</td>\n",
       "      <td>193.80</td>\n",
       "      <td>190.50</td>\n",
       "      <td>43.87M</td>\n",
       "      <td>-0.34%</td>\n",
       "    </tr>\n",
       "    <tr>\n",
       "      <th>4</th>\n",
       "      <td>Aug 03, 2020</td>\n",
       "      <td>192.25</td>\n",
       "      <td>192.00</td>\n",
       "      <td>194.60</td>\n",
       "      <td>190.05</td>\n",
       "      <td>72.46M</td>\n",
       "      <td>0.42%</td>\n",
       "    </tr>\n",
       "  </tbody>\n",
       "</table>\n",
       "</div>"
      ],
      "text/plain": [
       "           Date   Price    Open    High     Low    Vol. Change %\n",
       "0  Aug 07, 2020  190.65  191.45  192.10  189.55  44.82M   -0.16%\n",
       "1  Aug 06, 2020  190.95  192.30  194.50  190.25  59.74M   -0.26%\n",
       "2  Aug 05, 2020  191.45  192.75  196.85  191.00  68.89M   -0.08%\n",
       "3  Aug 04, 2020  191.60  193.35  193.80  190.50  43.87M   -0.34%\n",
       "4  Aug 03, 2020  192.25  192.00  194.60  190.05  72.46M    0.42%"
      ]
     },
     "execution_count": 16,
     "metadata": {},
     "output_type": "execute_result"
    }
   ],
   "source": [
    "sbi.head(5)"
   ]
  },
  {
   "cell_type": "code",
   "execution_count": 17,
   "id": "925830ee",
   "metadata": {},
   "outputs": [
    {
     "data": {
      "text/html": [
       "<div>\n",
       "<style scoped>\n",
       "    .dataframe tbody tr th:only-of-type {\n",
       "        vertical-align: middle;\n",
       "    }\n",
       "\n",
       "    .dataframe tbody tr th {\n",
       "        vertical-align: top;\n",
       "    }\n",
       "\n",
       "    .dataframe thead th {\n",
       "        text-align: right;\n",
       "    }\n",
       "</style>\n",
       "<table border=\"1\" class=\"dataframe\">\n",
       "  <thead>\n",
       "    <tr style=\"text-align: right;\">\n",
       "      <th></th>\n",
       "      <th>Date</th>\n",
       "      <th>Price</th>\n",
       "      <th>Open</th>\n",
       "      <th>High</th>\n",
       "      <th>Low</th>\n",
       "      <th>Vol.</th>\n",
       "      <th>Change %</th>\n",
       "    </tr>\n",
       "  </thead>\n",
       "  <tbody>\n",
       "    <tr>\n",
       "      <th>1384</th>\n",
       "      <td>Jan 01, 2015</td>\n",
       "      <td>314.00</td>\n",
       "      <td>312.45</td>\n",
       "      <td>315.00</td>\n",
       "      <td>310.70</td>\n",
       "      <td>6.14M</td>\n",
       "      <td>0.69%</td>\n",
       "    </tr>\n",
       "    <tr>\n",
       "      <th>1383</th>\n",
       "      <td>Jan 02, 2015</td>\n",
       "      <td>315.25</td>\n",
       "      <td>314.35</td>\n",
       "      <td>318.30</td>\n",
       "      <td>314.35</td>\n",
       "      <td>9.94M</td>\n",
       "      <td>0.40%</td>\n",
       "    </tr>\n",
       "    <tr>\n",
       "      <th>1382</th>\n",
       "      <td>Jan 05, 2015</td>\n",
       "      <td>312.75</td>\n",
       "      <td>316.25</td>\n",
       "      <td>316.80</td>\n",
       "      <td>312.10</td>\n",
       "      <td>9.14M</td>\n",
       "      <td>-0.79%</td>\n",
       "    </tr>\n",
       "    <tr>\n",
       "      <th>1381</th>\n",
       "      <td>Jan 06, 2015</td>\n",
       "      <td>299.90</td>\n",
       "      <td>310.00</td>\n",
       "      <td>311.10</td>\n",
       "      <td>298.70</td>\n",
       "      <td>15.33M</td>\n",
       "      <td>-4.11%</td>\n",
       "    </tr>\n",
       "    <tr>\n",
       "      <th>1380</th>\n",
       "      <td>Jan 07, 2015</td>\n",
       "      <td>300.15</td>\n",
       "      <td>300.00</td>\n",
       "      <td>302.55</td>\n",
       "      <td>295.15</td>\n",
       "      <td>15.05M</td>\n",
       "      <td>0.08%</td>\n",
       "    </tr>\n",
       "    <tr>\n",
       "      <th>...</th>\n",
       "      <td>...</td>\n",
       "      <td>...</td>\n",
       "      <td>...</td>\n",
       "      <td>...</td>\n",
       "      <td>...</td>\n",
       "      <td>...</td>\n",
       "      <td>...</td>\n",
       "    </tr>\n",
       "    <tr>\n",
       "      <th>4</th>\n",
       "      <td>Aug 03, 2020</td>\n",
       "      <td>192.25</td>\n",
       "      <td>192.00</td>\n",
       "      <td>194.60</td>\n",
       "      <td>190.05</td>\n",
       "      <td>72.46M</td>\n",
       "      <td>0.42%</td>\n",
       "    </tr>\n",
       "    <tr>\n",
       "      <th>3</th>\n",
       "      <td>Aug 04, 2020</td>\n",
       "      <td>191.60</td>\n",
       "      <td>193.35</td>\n",
       "      <td>193.80</td>\n",
       "      <td>190.50</td>\n",
       "      <td>43.87M</td>\n",
       "      <td>-0.34%</td>\n",
       "    </tr>\n",
       "    <tr>\n",
       "      <th>2</th>\n",
       "      <td>Aug 05, 2020</td>\n",
       "      <td>191.45</td>\n",
       "      <td>192.75</td>\n",
       "      <td>196.85</td>\n",
       "      <td>191.00</td>\n",
       "      <td>68.89M</td>\n",
       "      <td>-0.08%</td>\n",
       "    </tr>\n",
       "    <tr>\n",
       "      <th>1</th>\n",
       "      <td>Aug 06, 2020</td>\n",
       "      <td>190.95</td>\n",
       "      <td>192.30</td>\n",
       "      <td>194.50</td>\n",
       "      <td>190.25</td>\n",
       "      <td>59.74M</td>\n",
       "      <td>-0.26%</td>\n",
       "    </tr>\n",
       "    <tr>\n",
       "      <th>0</th>\n",
       "      <td>Aug 07, 2020</td>\n",
       "      <td>190.65</td>\n",
       "      <td>191.45</td>\n",
       "      <td>192.10</td>\n",
       "      <td>189.55</td>\n",
       "      <td>44.82M</td>\n",
       "      <td>-0.16%</td>\n",
       "    </tr>\n",
       "  </tbody>\n",
       "</table>\n",
       "<p>1385 rows × 7 columns</p>\n",
       "</div>"
      ],
      "text/plain": [
       "              Date   Price    Open    High     Low    Vol. Change %\n",
       "1384  Jan 01, 2015  314.00  312.45  315.00  310.70   6.14M    0.69%\n",
       "1383  Jan 02, 2015  315.25  314.35  318.30  314.35   9.94M    0.40%\n",
       "1382  Jan 05, 2015  312.75  316.25  316.80  312.10   9.14M   -0.79%\n",
       "1381  Jan 06, 2015  299.90  310.00  311.10  298.70  15.33M   -4.11%\n",
       "1380  Jan 07, 2015  300.15  300.00  302.55  295.15  15.05M    0.08%\n",
       "...            ...     ...     ...     ...     ...     ...      ...\n",
       "4     Aug 03, 2020  192.25  192.00  194.60  190.05  72.46M    0.42%\n",
       "3     Aug 04, 2020  191.60  193.35  193.80  190.50  43.87M   -0.34%\n",
       "2     Aug 05, 2020  191.45  192.75  196.85  191.00  68.89M   -0.08%\n",
       "1     Aug 06, 2020  190.95  192.30  194.50  190.25  59.74M   -0.26%\n",
       "0     Aug 07, 2020  190.65  191.45  192.10  189.55  44.82M   -0.16%\n",
       "\n",
       "[1385 rows x 7 columns]"
      ]
     },
     "execution_count": 17,
     "metadata": {},
     "output_type": "execute_result"
    }
   ],
   "source": [
    "sbi2 = sbi\n",
    "sbi2 = sbi.iloc[::-1]\n",
    "sbi2"
   ]
  },
  {
   "cell_type": "code",
   "execution_count": 18,
   "id": "9ae27483",
   "metadata": {},
   "outputs": [
    {
     "data": {
      "image/png": "[encoded data removed]",
      "text/plain": [
       "<Figure size 1500x300 with 1 Axes>"
      ]
     },
     "metadata": {},
     "output_type": "display_data"
    }
   ],
   "source": [
    "sbi2.plot.line(x = 'Date',y = 'Price',figsize=(15,3))\n",
    "plt.show() "
   ]
  },
  {
   "cell_type": "markdown",
   "id": "3c2a51bd",
   "metadata": {},
   "source": [
    "### b. Check Stationarity with:\n",
    "\n"
   ]
  },
  {
   "cell_type": "markdown",
   "id": "ea923256",
   "metadata": {},
   "source": [
    "#### - ADF Test\n",
    "\n",
    "* H0 : - The data is  non-stationary\n",
    "* H1 : - The data is  stationary\n",
    "\n",
    "* Alpha = 0.05"
   ]
  },
  {
   "cell_type": "code",
   "execution_count": 15,
   "id": "ea715200",
   "metadata": {},
   "outputs": [
    {
     "data": {
      "text/plain": [
       "Test Statistic                   -2.683735\n",
       "p-value                           0.076895\n",
       "#lags used                        7.000000\n",
       "number of observations used    1377.000000\n",
       "dtype: float64"
      ]
     },
     "execution_count": 15,
     "metadata": {},
     "output_type": "execute_result"
    }
   ],
   "source": [
    "from statsmodels.tsa.stattools import adfuller\n",
    "sbi_test = adfuller(sbi['Price'])\n",
    "sbi_output=pd.Series(sbi_test[0:4],index=['Test Statistic','p-value','#lags used','number of observations used'])\n",
    "sbi_output"
   ]
  },
  {
   "cell_type": "markdown",
   "id": "e10b6d86",
   "metadata": {},
   "source": [
    "* we do not Reject Ho\n",
    "* The data is stationary"
   ]
  },
  {
   "cell_type": "markdown",
   "id": "e54031e9",
   "metadata": {},
   "source": [
    "#### - KPSS Test\n",
    "\n",
    "* H0 : - The data is  non-stationary\n",
    "* H1 : - The data is  stationary\n",
    "\n",
    "* Alpha = 0.05"
   ]
  },
  {
   "cell_type": "code",
   "execution_count": 33,
   "id": "565ec0c3",
   "metadata": {},
   "outputs": [
    {
     "data": {
      "text/plain": [
       "Test Statistic                   -2.683735\n",
       "p-value                           0.076895\n",
       "#lags used                        7.000000\n",
       "number of observations used    1377.000000\n",
       "dtype: float64"
      ]
     },
     "execution_count": 33,
     "metadata": {},
     "output_type": "execute_result"
    }
   ],
   "source": [
    "from statsmodels.tsa.stattools import kpss\n",
    "sbi_test = adfuller(sbi['Price'])\n",
    "sbi_output=pd.Series(sbi_test[0:4],index=['Test Statistic','p-value','#lags used','number of observations used'])\n",
    "sbi_output"
   ]
  },
  {
   "cell_type": "markdown",
   "id": "753e98a4",
   "metadata": {},
   "source": [
    "* we do not Reject Ho\n",
    "* The data is stationary"
   ]
  },
  {
   "cell_type": "markdown",
   "id": "647c8f19",
   "metadata": {},
   "source": [
    "### c. Perform decomposing  "
   ]
  },
  {
   "cell_type": "code",
   "execution_count": null,
   "id": "0097f51c",
   "metadata": {},
   "outputs": [],
   "source": []
  },
  {
   "cell_type": "code",
   "execution_count": null,
   "id": "11fe8ebf",
   "metadata": {},
   "outputs": [],
   "source": []
  },
  {
   "cell_type": "markdown",
   "id": "8941f827",
   "metadata": {},
   "source": [
    "# Q. 3 Forecast about the stock price using ARIMA. Steps to be performed:"
   ]
  },
  {
   "cell_type": "markdown",
   "id": "b6557345",
   "metadata": {},
   "source": [
    "### a. Parameter Selection using gridsearch"
   ]
  },
  {
   "cell_type": "code",
   "execution_count": 54,
   "id": "03115043",
   "metadata": {},
   "outputs": [
    {
     "name": "stdout",
     "output_type": "stream",
     "text": [
      "Performing stepwise search to minimize aic\n",
      " ARIMA(0,0,0)(0,0,0)[0]             : AIC=19441.529, Time=0.04 sec\n",
      " ARIMA(1,0,0)(0,0,0)[0]             : AIC=inf, Time=0.21 sec\n",
      " ARIMA(0,0,1)(0,0,0)[0]             : AIC=17564.252, Time=0.30 sec\n",
      " ARIMA(1,0,1)(0,0,0)[0]             : AIC=8897.413, Time=0.28 sec\n",
      " ARIMA(2,0,1)(0,0,0)[0]             : AIC=8897.830, Time=0.31 sec\n",
      " ARIMA(1,0,2)(0,0,0)[0]             : AIC=8898.827, Time=0.43 sec\n",
      " ARIMA(0,0,2)(0,0,0)[0]             : AIC=inf, Time=0.40 sec\n",
      " ARIMA(2,0,0)(0,0,0)[0]             : AIC=inf, Time=0.37 sec\n",
      " ARIMA(2,0,2)(0,0,0)[0]             : AIC=8899.729, Time=0.43 sec\n",
      " ARIMA(1,0,1)(0,0,0)[0] intercept   : AIC=8890.987, Time=0.34 sec\n",
      " ARIMA(0,0,1)(0,0,0)[0] intercept   : AIC=12829.475, Time=0.31 sec\n",
      " ARIMA(1,0,0)(0,0,0)[0] intercept   : AIC=inf, Time=0.16 sec\n",
      " ARIMA(2,0,1)(0,0,0)[0] intercept   : AIC=8891.476, Time=0.63 sec\n",
      " ARIMA(1,0,2)(0,0,0)[0] intercept   : AIC=8892.119, Time=0.41 sec\n",
      " ARIMA(0,0,0)(0,0,0)[0] intercept   : AIC=14511.886, Time=0.02 sec\n",
      " ARIMA(0,0,2)(0,0,0)[0] intercept   : AIC=11745.871, Time=0.74 sec\n",
      " ARIMA(2,0,0)(0,0,0)[0] intercept   : AIC=inf, Time=0.49 sec\n",
      " ARIMA(2,0,2)(0,0,0)[0] intercept   : AIC=8894.065, Time=0.92 sec\n",
      "\n",
      "Best model:  ARIMA(1,0,1)(0,0,0)[0] intercept\n",
      "Total fit time: 6.799 seconds\n"
     ]
    }
   ],
   "source": [
    "from statsmodels.tsa.arima_model import ARIMA\n",
    "import pmdarima as pm\n",
    "model = pm.auto_arima(sbi.Price,\n",
    "                      start_p=0,max_p=3, # Pacf(p) = 0,1,2,3\n",
    "                      d=0,max_d=2,       # Difference (d) = 0,1,2\n",
    "                      start_q=0,max_q=3, # acf (q) = 0,1,2,3\n",
    "                      m=12,              # frequency of series\n",
    "                      seasonal=False,    # No Seasonality  then below P,D,Q will not be used \n",
    "                      test='adf',       # use adftest to find optimal 'd'\n",
    "                      trace=True)"
   ]
  },
  {
   "cell_type": "code",
   "execution_count": 56,
   "id": "d946d71c",
   "metadata": {},
   "outputs": [
    {
     "data": {
      "text/html": [
       "<div>\n",
       "<style scoped>\n",
       "    .dataframe tbody tr th:only-of-type {\n",
       "        vertical-align: middle;\n",
       "    }\n",
       "\n",
       "    .dataframe tbody tr th {\n",
       "        vertical-align: top;\n",
       "    }\n",
       "\n",
       "    .dataframe thead th {\n",
       "        text-align: right;\n",
       "    }\n",
       "</style>\n",
       "<table border=\"1\" class=\"dataframe\">\n",
       "  <thead>\n",
       "    <tr style=\"text-align: right;\">\n",
       "      <th></th>\n",
       "      <th>Date</th>\n",
       "      <th>Price</th>\n",
       "      <th>Forecast</th>\n",
       "    </tr>\n",
       "  </thead>\n",
       "  <tbody>\n",
       "    <tr>\n",
       "      <th>0</th>\n",
       "      <td>2020-08-07</td>\n",
       "      <td>190.65</td>\n",
       "      <td>264.0</td>\n",
       "    </tr>\n",
       "    <tr>\n",
       "      <th>1</th>\n",
       "      <td>2020-08-06</td>\n",
       "      <td>190.95</td>\n",
       "      <td>191.0</td>\n",
       "    </tr>\n",
       "    <tr>\n",
       "      <th>2</th>\n",
       "      <td>2020-08-05</td>\n",
       "      <td>191.45</td>\n",
       "      <td>192.0</td>\n",
       "    </tr>\n",
       "    <tr>\n",
       "      <th>3</th>\n",
       "      <td>2020-08-04</td>\n",
       "      <td>191.60</td>\n",
       "      <td>192.0</td>\n",
       "    </tr>\n",
       "    <tr>\n",
       "      <th>4</th>\n",
       "      <td>2020-08-03</td>\n",
       "      <td>192.25</td>\n",
       "      <td>192.0</td>\n",
       "    </tr>\n",
       "    <tr>\n",
       "      <th>...</th>\n",
       "      <td>...</td>\n",
       "      <td>...</td>\n",
       "      <td>...</td>\n",
       "    </tr>\n",
       "    <tr>\n",
       "      <th>1380</th>\n",
       "      <td>2015-01-07</td>\n",
       "      <td>300.15</td>\n",
       "      <td>305.0</td>\n",
       "    </tr>\n",
       "    <tr>\n",
       "      <th>1381</th>\n",
       "      <td>2015-01-06</td>\n",
       "      <td>299.90</td>\n",
       "      <td>300.0</td>\n",
       "    </tr>\n",
       "    <tr>\n",
       "      <th>1382</th>\n",
       "      <td>2015-01-05</td>\n",
       "      <td>312.75</td>\n",
       "      <td>300.0</td>\n",
       "    </tr>\n",
       "    <tr>\n",
       "      <th>1383</th>\n",
       "      <td>2015-01-02</td>\n",
       "      <td>315.25</td>\n",
       "      <td>312.0</td>\n",
       "    </tr>\n",
       "    <tr>\n",
       "      <th>1384</th>\n",
       "      <td>2015-01-01</td>\n",
       "      <td>314.00</td>\n",
       "      <td>315.0</td>\n",
       "    </tr>\n",
       "  </tbody>\n",
       "</table>\n",
       "<p>1385 rows × 3 columns</p>\n",
       "</div>"
      ],
      "text/plain": [
       "           Date   Price  Forecast\n",
       "0    2020-08-07  190.65     264.0\n",
       "1    2020-08-06  190.95     191.0\n",
       "2    2020-08-05  191.45     192.0\n",
       "3    2020-08-04  191.60     192.0\n",
       "4    2020-08-03  192.25     192.0\n",
       "...         ...     ...       ...\n",
       "1380 2015-01-07  300.15     305.0\n",
       "1381 2015-01-06  299.90     300.0\n",
       "1382 2015-01-05  312.75     300.0\n",
       "1383 2015-01-02  315.25     312.0\n",
       "1384 2015-01-01  314.00     315.0\n",
       "\n",
       "[1385 rows x 3 columns]"
      ]
     },
     "execution_count": 56,
     "metadata": {},
     "output_type": "execute_result"
    }
   ],
   "source": [
    "import numpy as np\n",
    "sbi['Forecast']=np.round(model.predict_in_sample(),0)\n",
    "sbi.iloc[:,[0,1,7]]"
   ]
  },
  {
   "cell_type": "markdown",
   "id": "f00cc59a",
   "metadata": {},
   "source": [
    "### b. Fit ARIMA model as per the selected optimum value of parameters"
   ]
  },
  {
   "cell_type": "code",
   "execution_count": 59,
   "id": "a9f165eb",
   "metadata": {},
   "outputs": [
    {
     "data": {
      "text/html": [
       "<div>\n",
       "<style scoped>\n",
       "    .dataframe tbody tr th:only-of-type {\n",
       "        vertical-align: middle;\n",
       "    }\n",
       "\n",
       "    .dataframe tbody tr th {\n",
       "        vertical-align: top;\n",
       "    }\n",
       "\n",
       "    .dataframe thead th {\n",
       "        text-align: right;\n",
       "    }\n",
       "</style>\n",
       "<table border=\"1\" class=\"dataframe\">\n",
       "  <thead>\n",
       "    <tr style=\"text-align: right;\">\n",
       "      <th></th>\n",
       "      <th>Date</th>\n",
       "      <th>Price</th>\n",
       "      <th>Forecast</th>\n",
       "    </tr>\n",
       "  </thead>\n",
       "  <tbody>\n",
       "    <tr>\n",
       "      <th>0</th>\n",
       "      <td>2020-08-07</td>\n",
       "      <td>190.65</td>\n",
       "      <td>264.0</td>\n",
       "    </tr>\n",
       "    <tr>\n",
       "      <th>1</th>\n",
       "      <td>2020-08-06</td>\n",
       "      <td>190.95</td>\n",
       "      <td>191.0</td>\n",
       "    </tr>\n",
       "    <tr>\n",
       "      <th>2</th>\n",
       "      <td>2020-08-05</td>\n",
       "      <td>191.45</td>\n",
       "      <td>192.0</td>\n",
       "    </tr>\n",
       "    <tr>\n",
       "      <th>3</th>\n",
       "      <td>2020-08-04</td>\n",
       "      <td>191.60</td>\n",
       "      <td>192.0</td>\n",
       "    </tr>\n",
       "    <tr>\n",
       "      <th>4</th>\n",
       "      <td>2020-08-03</td>\n",
       "      <td>192.25</td>\n",
       "      <td>192.0</td>\n",
       "    </tr>\n",
       "    <tr>\n",
       "      <th>...</th>\n",
       "      <td>...</td>\n",
       "      <td>...</td>\n",
       "      <td>...</td>\n",
       "    </tr>\n",
       "    <tr>\n",
       "      <th>1380</th>\n",
       "      <td>2015-01-07</td>\n",
       "      <td>300.15</td>\n",
       "      <td>305.0</td>\n",
       "    </tr>\n",
       "    <tr>\n",
       "      <th>1381</th>\n",
       "      <td>2015-01-06</td>\n",
       "      <td>299.90</td>\n",
       "      <td>300.0</td>\n",
       "    </tr>\n",
       "    <tr>\n",
       "      <th>1382</th>\n",
       "      <td>2015-01-05</td>\n",
       "      <td>312.75</td>\n",
       "      <td>300.0</td>\n",
       "    </tr>\n",
       "    <tr>\n",
       "      <th>1383</th>\n",
       "      <td>2015-01-02</td>\n",
       "      <td>315.25</td>\n",
       "      <td>312.0</td>\n",
       "    </tr>\n",
       "    <tr>\n",
       "      <th>1384</th>\n",
       "      <td>2015-01-01</td>\n",
       "      <td>314.00</td>\n",
       "      <td>315.0</td>\n",
       "    </tr>\n",
       "  </tbody>\n",
       "</table>\n",
       "<p>1385 rows × 3 columns</p>\n",
       "</div>"
      ],
      "text/plain": [
       "           Date   Price  Forecast\n",
       "0    2020-08-07  190.65     264.0\n",
       "1    2020-08-06  190.95     191.0\n",
       "2    2020-08-05  191.45     192.0\n",
       "3    2020-08-04  191.60     192.0\n",
       "4    2020-08-03  192.25     192.0\n",
       "...         ...     ...       ...\n",
       "1380 2015-01-07  300.15     305.0\n",
       "1381 2015-01-06  299.90     300.0\n",
       "1382 2015-01-05  312.75     300.0\n",
       "1383 2015-01-02  315.25     312.0\n",
       "1384 2015-01-01  314.00     315.0\n",
       "\n",
       "[1385 rows x 3 columns]"
      ]
     },
     "execution_count": 59,
     "metadata": {},
     "output_type": "execute_result"
    }
   ],
   "source": [
    "import numpy as np\n",
    "sbi['Forecast']=np.round(model.predict_in_sample(),0)\n",
    "sbi.iloc[:,[0,1,7]]"
   ]
  },
  {
   "cell_type": "code",
   "execution_count": null,
   "id": "5948996f",
   "metadata": {},
   "outputs": [],
   "source": []
  },
  {
   "cell_type": "markdown",
   "id": "e782504f",
   "metadata": {},
   "source": [
    "### c. Validate forecast"
   ]
  },
  {
   "cell_type": "code",
   "execution_count": 58,
   "id": "9bbce5c3",
   "metadata": {},
   "outputs": [
    {
     "data": {
      "image/png": "[encoded data removed]",
      "text/plain": [
       "<Figure size 640x480 with 1 Axes>"
      ]
     },
     "metadata": {},
     "output_type": "display_data"
    }
   ],
   "source": [
    "\n",
    "plt.plot(sbi.Price)\n",
    "plt.plot(sbi.Forecast, color='darkgreen')\n",
    "plt.title(\"Actual vs Forecast fitted value\")\n",
    "plt.show()"
   ]
  },
  {
   "cell_type": "code",
   "execution_count": null,
   "id": "1693b7a0",
   "metadata": {},
   "outputs": [],
   "source": []
  },
  {
   "cell_type": "markdown",
   "id": "477bfaaf",
   "metadata": {},
   "source": [
    "### d. Calculate the MSE and RMSE"
   ]
  },
  {
   "cell_type": "code",
   "execution_count": 60,
   "id": "3b99949b",
   "metadata": {},
   "outputs": [
    {
     "data": {
      "text/plain": [
       "{'mape': 1.6371308549232768}"
      ]
     },
     "execution_count": 60,
     "metadata": {},
     "output_type": "execute_result"
    }
   ],
   "source": [
    "def forecast_accuracy(actual,forecast):\n",
    "    mape = (np.mean(np.abs(actual-forecast)/np.abs(actual)))*100  # MAPE\n",
    "    return({'mape':mape})\n",
    "\n",
    "forecast_accuracy(sbi.Price,sbi.Forecast)"
   ]
  },
  {
   "cell_type": "code",
   "execution_count": 64,
   "id": "18d08892",
   "metadata": {},
   "outputs": [
    {
     "name": "stdout",
     "output_type": "stream",
     "text": [
      "Root Mean Squared Error (RMSE): 6.28\n"
     ]
    }
   ],
   "source": [
    "import numpy as np\n",
    "from sklearn.metrics import mean_squared_error\n",
    "sbi_mse1=sbi['Price']\n",
    "sbi_mse2=sbi['Forecast']\n",
    "mse= mean_squared_error(sbi_mse1,sbi_mse2)\n",
    "rmse = np.sqrt(mse)\n",
    "print(f'Root Mean Squared Error (RMSE): {rmse:.2f}')"
   ]
  },
  {
   "cell_type": "code",
   "execution_count": null,
   "id": "604edc7f",
   "metadata": {},
   "outputs": [],
   "source": []
  },
  {
   "cell_type": "markdown",
   "id": "2f4c1543",
   "metadata": {},
   "source": [
    "### e. Visualize the forecast"
   ]
  },
  {
   "cell_type": "code",
   "execution_count": 65,
   "id": "88bb8943",
   "metadata": {},
   "outputs": [
    {
     "data": {
      "image/png": "[encoded data removed]",
      "text/plain": [
       "<Figure size 640x480 with 1 Axes>"
      ]
     },
     "metadata": {},
     "output_type": "display_data"
    }
   ],
   "source": [
    "n_periods=48\n",
    "fc = model.predict(n_periods=n_periods)\n",
    "index_of_fc = np.arange(len(sbi.Price), len(sbi.Price)+n_periods)\n",
    "\n",
    "# make series for plotting purpose\n",
    "fc_series = pd.Series(fc, index=index_of_fc)\n",
    "\n",
    "# Plot\n",
    "plt.plot(sbi.Price)\n",
    "plt.plot(fc_series, color='darkgreen')\n",
    "plt.title(\"Final Forecast of WWW Usage\")\n",
    "plt.show()"
   ]
  },
  {
   "cell_type": "code",
   "execution_count": 66,
   "id": "d14a9dec",
   "metadata": {},
   "outputs": [
    {
     "data": {
      "text/plain": [
       "1385    313.595289\n",
       "1386    313.196504\n",
       "1387    312.800937\n",
       "1388    312.408562\n",
       "1389    312.019353\n",
       "1390    311.633284\n",
       "1391    311.250331\n",
       "1392    310.870467\n",
       "1393    310.493669\n",
       "1394    310.119911\n",
       "1395    309.749169\n",
       "1396    309.381418\n",
       "1397    309.016635\n",
       "1398    308.654795\n",
       "1399    308.295875\n",
       "1400    307.939851\n",
       "1401    307.586699\n",
       "1402    307.236398\n",
       "1403    306.888922\n",
       "1404    306.544251\n",
       "1405    306.202361\n",
       "1406    305.863229\n",
       "1407    305.526834\n",
       "1408    305.193153\n",
       "1409    304.862165\n",
       "1410    304.533847\n",
       "1411    304.208178\n",
       "1412    303.885138\n",
       "1413    303.564704\n",
       "1414    303.246855\n",
       "1415    302.931571\n",
       "1416    302.618832\n",
       "1417    302.308615\n",
       "1418    302.000902\n",
       "1419    301.695672\n",
       "1420    301.392904\n",
       "1421    301.092580\n",
       "1422    300.794679\n",
       "1423    300.499182\n",
       "1424    300.206069\n",
       "1425    299.915321\n",
       "1426    299.626919\n",
       "1427    299.340844\n",
       "1428    299.057078\n",
       "1429    298.775601\n",
       "1430    298.496396\n",
       "1431    298.219443\n",
       "1432    297.944725\n",
       "dtype: float64"
      ]
     },
     "execution_count": 66,
     "metadata": {},
     "output_type": "execute_result"
    }
   ],
   "source": [
    "fc"
   ]
  },
  {
   "cell_type": "code",
   "execution_count": null,
   "id": "734d74ac",
   "metadata": {},
   "outputs": [],
   "source": []
  }
 ],
 "metadata": {
  "kernelspec": {
   "display_name": "Python 3 (ipykernel)",
   "language": "python",
   "name": "python3"
  },
  "language_info": {
   "codemirror_mode": {
    "name": "ipython",
    "version": 3
   },
   "file_extension": ".py",
   "mimetype": "text/x-python",
   "name": "python",
   "nbconvert_exporter": "python",
   "pygments_lexer": "ipython3",
   "version": "3.10.9"
  }
 },
 "nbformat": 4,
 "nbformat_minor": 5
}
